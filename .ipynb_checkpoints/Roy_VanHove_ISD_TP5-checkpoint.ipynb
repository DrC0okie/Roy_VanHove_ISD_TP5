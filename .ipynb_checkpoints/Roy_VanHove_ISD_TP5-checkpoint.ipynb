{
 "cells": [
  {
   "cell_type": "markdown",
   "id": "e5f15123",
   "metadata": {},
   "source": [
    "# Travail pratique 05 – Régression linéaire\n",
    "\n",
    "## 1 Régression linéaire simple\n",
    "\n",
    "### 1.2 Création d' un notebook pour lire la base de données «Boston housing dataset »"
   ]
  },
  {
   "cell_type": "code",
   "execution_count": 1,
   "id": "1eccacbc",
   "metadata": {},
   "outputs": [],
   "source": [
    "#variables globales\n",
    "fsize_title = 16\n",
    "fsize_axes = 14\n",
    "figsize = (14,8)\n",
    "edge = \"black\"\n",
    "color= \"dodgerblue\"\n",
    "split = 0.8;"
   ]
  },
  {
   "cell_type": "code",
   "execution_count": 2,
   "id": "147a9da3",
   "metadata": {},
   "outputs": [],
   "source": [
    "import pandas as pd\n",
    "import numpy as np\n",
    "from random import randrange\n",
    "import random\n",
    "import seaborn as sn\n",
    "from matplotlib import pyplot as plt\n",
    "from sklearn.datasets import load_boston\n",
    "from sklearn import linear_model as lm\n",
    "from sklearn.preprocessing import MinMaxScaler\n",
    "from sklearn.metrics import r2_score as r2s\n",
    "from sklearn.model_selection import train_test_split as skl_train_test_split\n",
    "import warnings\n",
    "with warnings.catch_warnings():\n",
    "    warnings.filterwarnings(\"ignore\")\n",
    "    X, y = load_boston(return_X_y=True)\n",
    "    b = load_boston()\n",
    "\n",
    "bdf = pd.DataFrame(b.data, columns=b.feature_names)\n",
    "# Il faut renommmer la dernière colonne\n",
    "bdf[\"MEDV\"] = pd.Series(b.target)\n",
    "# Affichage du dataframe"
   ]
  },
  {
   "cell_type": "markdown",
   "id": "30dc5073",
   "metadata": {},
   "source": [
    "### 1.3 Se familiariser avec la base de données\n",
    "\n",
    "p.ex., nombre d’observations, des classes, d’attributs, statistiques des attributs, données manquantes. Générez un\n",
    "histogramme de la distribution de la variable indépendente."
   ]
  },
  {
   "cell_type": "code",
   "execution_count": 3,
   "id": "be2c14ee",
   "metadata": {
    "scrolled": true
   },
   "outputs": [
    {
     "data": {
      "text/html": [
       "<div>\n",
       "<style scoped>\n",
       "    .dataframe tbody tr th:only-of-type {\n",
       "        vertical-align: middle;\n",
       "    }\n",
       "\n",
       "    .dataframe tbody tr th {\n",
       "        vertical-align: top;\n",
       "    }\n",
       "\n",
       "    .dataframe thead th {\n",
       "        text-align: right;\n",
       "    }\n",
       "</style>\n",
       "<table border=\"1\" class=\"dataframe\">\n",
       "  <thead>\n",
       "    <tr style=\"text-align: right;\">\n",
       "      <th></th>\n",
       "      <th>CRIM</th>\n",
       "      <th>ZN</th>\n",
       "      <th>INDUS</th>\n",
       "      <th>CHAS</th>\n",
       "      <th>NOX</th>\n",
       "      <th>RM</th>\n",
       "      <th>AGE</th>\n",
       "      <th>DIS</th>\n",
       "      <th>RAD</th>\n",
       "      <th>TAX</th>\n",
       "      <th>PTRATIO</th>\n",
       "      <th>B</th>\n",
       "      <th>LSTAT</th>\n",
       "      <th>MEDV</th>\n",
       "    </tr>\n",
       "  </thead>\n",
       "  <tbody>\n",
       "    <tr>\n",
       "      <th>0</th>\n",
       "      <td>0.00632</td>\n",
       "      <td>18.0</td>\n",
       "      <td>2.31</td>\n",
       "      <td>0.0</td>\n",
       "      <td>0.538</td>\n",
       "      <td>6.575</td>\n",
       "      <td>65.2</td>\n",
       "      <td>4.0900</td>\n",
       "      <td>1.0</td>\n",
       "      <td>296.0</td>\n",
       "      <td>15.3</td>\n",
       "      <td>396.90</td>\n",
       "      <td>4.98</td>\n",
       "      <td>24.0</td>\n",
       "    </tr>\n",
       "    <tr>\n",
       "      <th>1</th>\n",
       "      <td>0.02731</td>\n",
       "      <td>0.0</td>\n",
       "      <td>7.07</td>\n",
       "      <td>0.0</td>\n",
       "      <td>0.469</td>\n",
       "      <td>6.421</td>\n",
       "      <td>78.9</td>\n",
       "      <td>4.9671</td>\n",
       "      <td>2.0</td>\n",
       "      <td>242.0</td>\n",
       "      <td>17.8</td>\n",
       "      <td>396.90</td>\n",
       "      <td>9.14</td>\n",
       "      <td>21.6</td>\n",
       "    </tr>\n",
       "    <tr>\n",
       "      <th>2</th>\n",
       "      <td>0.02729</td>\n",
       "      <td>0.0</td>\n",
       "      <td>7.07</td>\n",
       "      <td>0.0</td>\n",
       "      <td>0.469</td>\n",
       "      <td>7.185</td>\n",
       "      <td>61.1</td>\n",
       "      <td>4.9671</td>\n",
       "      <td>2.0</td>\n",
       "      <td>242.0</td>\n",
       "      <td>17.8</td>\n",
       "      <td>392.83</td>\n",
       "      <td>4.03</td>\n",
       "      <td>34.7</td>\n",
       "    </tr>\n",
       "    <tr>\n",
       "      <th>3</th>\n",
       "      <td>0.03237</td>\n",
       "      <td>0.0</td>\n",
       "      <td>2.18</td>\n",
       "      <td>0.0</td>\n",
       "      <td>0.458</td>\n",
       "      <td>6.998</td>\n",
       "      <td>45.8</td>\n",
       "      <td>6.0622</td>\n",
       "      <td>3.0</td>\n",
       "      <td>222.0</td>\n",
       "      <td>18.7</td>\n",
       "      <td>394.63</td>\n",
       "      <td>2.94</td>\n",
       "      <td>33.4</td>\n",
       "    </tr>\n",
       "    <tr>\n",
       "      <th>4</th>\n",
       "      <td>0.06905</td>\n",
       "      <td>0.0</td>\n",
       "      <td>2.18</td>\n",
       "      <td>0.0</td>\n",
       "      <td>0.458</td>\n",
       "      <td>7.147</td>\n",
       "      <td>54.2</td>\n",
       "      <td>6.0622</td>\n",
       "      <td>3.0</td>\n",
       "      <td>222.0</td>\n",
       "      <td>18.7</td>\n",
       "      <td>396.90</td>\n",
       "      <td>5.33</td>\n",
       "      <td>36.2</td>\n",
       "    </tr>\n",
       "    <tr>\n",
       "      <th>...</th>\n",
       "      <td>...</td>\n",
       "      <td>...</td>\n",
       "      <td>...</td>\n",
       "      <td>...</td>\n",
       "      <td>...</td>\n",
       "      <td>...</td>\n",
       "      <td>...</td>\n",
       "      <td>...</td>\n",
       "      <td>...</td>\n",
       "      <td>...</td>\n",
       "      <td>...</td>\n",
       "      <td>...</td>\n",
       "      <td>...</td>\n",
       "      <td>...</td>\n",
       "    </tr>\n",
       "    <tr>\n",
       "      <th>501</th>\n",
       "      <td>0.06263</td>\n",
       "      <td>0.0</td>\n",
       "      <td>11.93</td>\n",
       "      <td>0.0</td>\n",
       "      <td>0.573</td>\n",
       "      <td>6.593</td>\n",
       "      <td>69.1</td>\n",
       "      <td>2.4786</td>\n",
       "      <td>1.0</td>\n",
       "      <td>273.0</td>\n",
       "      <td>21.0</td>\n",
       "      <td>391.99</td>\n",
       "      <td>9.67</td>\n",
       "      <td>22.4</td>\n",
       "    </tr>\n",
       "    <tr>\n",
       "      <th>502</th>\n",
       "      <td>0.04527</td>\n",
       "      <td>0.0</td>\n",
       "      <td>11.93</td>\n",
       "      <td>0.0</td>\n",
       "      <td>0.573</td>\n",
       "      <td>6.120</td>\n",
       "      <td>76.7</td>\n",
       "      <td>2.2875</td>\n",
       "      <td>1.0</td>\n",
       "      <td>273.0</td>\n",
       "      <td>21.0</td>\n",
       "      <td>396.90</td>\n",
       "      <td>9.08</td>\n",
       "      <td>20.6</td>\n",
       "    </tr>\n",
       "    <tr>\n",
       "      <th>503</th>\n",
       "      <td>0.06076</td>\n",
       "      <td>0.0</td>\n",
       "      <td>11.93</td>\n",
       "      <td>0.0</td>\n",
       "      <td>0.573</td>\n",
       "      <td>6.976</td>\n",
       "      <td>91.0</td>\n",
       "      <td>2.1675</td>\n",
       "      <td>1.0</td>\n",
       "      <td>273.0</td>\n",
       "      <td>21.0</td>\n",
       "      <td>396.90</td>\n",
       "      <td>5.64</td>\n",
       "      <td>23.9</td>\n",
       "    </tr>\n",
       "    <tr>\n",
       "      <th>504</th>\n",
       "      <td>0.10959</td>\n",
       "      <td>0.0</td>\n",
       "      <td>11.93</td>\n",
       "      <td>0.0</td>\n",
       "      <td>0.573</td>\n",
       "      <td>6.794</td>\n",
       "      <td>89.3</td>\n",
       "      <td>2.3889</td>\n",
       "      <td>1.0</td>\n",
       "      <td>273.0</td>\n",
       "      <td>21.0</td>\n",
       "      <td>393.45</td>\n",
       "      <td>6.48</td>\n",
       "      <td>22.0</td>\n",
       "    </tr>\n",
       "    <tr>\n",
       "      <th>505</th>\n",
       "      <td>0.04741</td>\n",
       "      <td>0.0</td>\n",
       "      <td>11.93</td>\n",
       "      <td>0.0</td>\n",
       "      <td>0.573</td>\n",
       "      <td>6.030</td>\n",
       "      <td>80.8</td>\n",
       "      <td>2.5050</td>\n",
       "      <td>1.0</td>\n",
       "      <td>273.0</td>\n",
       "      <td>21.0</td>\n",
       "      <td>396.90</td>\n",
       "      <td>7.88</td>\n",
       "      <td>11.9</td>\n",
       "    </tr>\n",
       "  </tbody>\n",
       "</table>\n",
       "<p>506 rows × 14 columns</p>\n",
       "</div>"
      ],
      "text/plain": [
       "        CRIM    ZN  INDUS  CHAS    NOX     RM   AGE     DIS  RAD    TAX  \\\n",
       "0    0.00632  18.0   2.31   0.0  0.538  6.575  65.2  4.0900  1.0  296.0   \n",
       "1    0.02731   0.0   7.07   0.0  0.469  6.421  78.9  4.9671  2.0  242.0   \n",
       "2    0.02729   0.0   7.07   0.0  0.469  7.185  61.1  4.9671  2.0  242.0   \n",
       "3    0.03237   0.0   2.18   0.0  0.458  6.998  45.8  6.0622  3.0  222.0   \n",
       "4    0.06905   0.0   2.18   0.0  0.458  7.147  54.2  6.0622  3.0  222.0   \n",
       "..       ...   ...    ...   ...    ...    ...   ...     ...  ...    ...   \n",
       "501  0.06263   0.0  11.93   0.0  0.573  6.593  69.1  2.4786  1.0  273.0   \n",
       "502  0.04527   0.0  11.93   0.0  0.573  6.120  76.7  2.2875  1.0  273.0   \n",
       "503  0.06076   0.0  11.93   0.0  0.573  6.976  91.0  2.1675  1.0  273.0   \n",
       "504  0.10959   0.0  11.93   0.0  0.573  6.794  89.3  2.3889  1.0  273.0   \n",
       "505  0.04741   0.0  11.93   0.0  0.573  6.030  80.8  2.5050  1.0  273.0   \n",
       "\n",
       "     PTRATIO       B  LSTAT  MEDV  \n",
       "0       15.3  396.90   4.98  24.0  \n",
       "1       17.8  396.90   9.14  21.6  \n",
       "2       17.8  392.83   4.03  34.7  \n",
       "3       18.7  394.63   2.94  33.4  \n",
       "4       18.7  396.90   5.33  36.2  \n",
       "..       ...     ...    ...   ...  \n",
       "501     21.0  391.99   9.67  22.4  \n",
       "502     21.0  396.90   9.08  20.6  \n",
       "503     21.0  396.90   5.64  23.9  \n",
       "504     21.0  393.45   6.48  22.0  \n",
       "505     21.0  396.90   7.88  11.9  \n",
       "\n",
       "[506 rows x 14 columns]"
      ]
     },
     "execution_count": 3,
     "metadata": {},
     "output_type": "execute_result"
    }
   ],
   "source": [
    "#Afficher le contenu du dataframe généré\n",
    "bdf"
   ]
  },
  {
   "cell_type": "code",
   "execution_count": 4,
   "id": "a7779c6e",
   "metadata": {},
   "outputs": [
    {
     "data": {
      "text/html": [
       "<div>\n",
       "<style scoped>\n",
       "    .dataframe tbody tr th:only-of-type {\n",
       "        vertical-align: middle;\n",
       "    }\n",
       "\n",
       "    .dataframe tbody tr th {\n",
       "        vertical-align: top;\n",
       "    }\n",
       "\n",
       "    .dataframe thead th {\n",
       "        text-align: right;\n",
       "    }\n",
       "</style>\n",
       "<table border=\"1\" class=\"dataframe\">\n",
       "  <thead>\n",
       "    <tr style=\"text-align: right;\">\n",
       "      <th></th>\n",
       "      <th>CRIM</th>\n",
       "      <th>ZN</th>\n",
       "      <th>INDUS</th>\n",
       "      <th>CHAS</th>\n",
       "      <th>NOX</th>\n",
       "      <th>RM</th>\n",
       "      <th>AGE</th>\n",
       "      <th>DIS</th>\n",
       "      <th>RAD</th>\n",
       "      <th>TAX</th>\n",
       "      <th>PTRATIO</th>\n",
       "      <th>B</th>\n",
       "      <th>LSTAT</th>\n",
       "      <th>MEDV</th>\n",
       "    </tr>\n",
       "  </thead>\n",
       "  <tbody>\n",
       "    <tr>\n",
       "      <th>count</th>\n",
       "      <td>506.000000</td>\n",
       "      <td>506.000000</td>\n",
       "      <td>506.000000</td>\n",
       "      <td>506.000000</td>\n",
       "      <td>506.000000</td>\n",
       "      <td>506.000000</td>\n",
       "      <td>506.000000</td>\n",
       "      <td>506.000000</td>\n",
       "      <td>506.000000</td>\n",
       "      <td>506.000000</td>\n",
       "      <td>506.000000</td>\n",
       "      <td>506.000000</td>\n",
       "      <td>506.000000</td>\n",
       "      <td>506.000000</td>\n",
       "    </tr>\n",
       "    <tr>\n",
       "      <th>mean</th>\n",
       "      <td>3.613524</td>\n",
       "      <td>11.363636</td>\n",
       "      <td>11.136779</td>\n",
       "      <td>0.069170</td>\n",
       "      <td>0.554695</td>\n",
       "      <td>6.284634</td>\n",
       "      <td>68.574901</td>\n",
       "      <td>3.795043</td>\n",
       "      <td>9.549407</td>\n",
       "      <td>408.237154</td>\n",
       "      <td>18.455534</td>\n",
       "      <td>356.674032</td>\n",
       "      <td>12.653063</td>\n",
       "      <td>22.532806</td>\n",
       "    </tr>\n",
       "    <tr>\n",
       "      <th>std</th>\n",
       "      <td>8.601545</td>\n",
       "      <td>23.322453</td>\n",
       "      <td>6.860353</td>\n",
       "      <td>0.253994</td>\n",
       "      <td>0.115878</td>\n",
       "      <td>0.702617</td>\n",
       "      <td>28.148861</td>\n",
       "      <td>2.105710</td>\n",
       "      <td>8.707259</td>\n",
       "      <td>168.537116</td>\n",
       "      <td>2.164946</td>\n",
       "      <td>91.294864</td>\n",
       "      <td>7.141062</td>\n",
       "      <td>9.197104</td>\n",
       "    </tr>\n",
       "    <tr>\n",
       "      <th>min</th>\n",
       "      <td>0.006320</td>\n",
       "      <td>0.000000</td>\n",
       "      <td>0.460000</td>\n",
       "      <td>0.000000</td>\n",
       "      <td>0.385000</td>\n",
       "      <td>3.561000</td>\n",
       "      <td>2.900000</td>\n",
       "      <td>1.129600</td>\n",
       "      <td>1.000000</td>\n",
       "      <td>187.000000</td>\n",
       "      <td>12.600000</td>\n",
       "      <td>0.320000</td>\n",
       "      <td>1.730000</td>\n",
       "      <td>5.000000</td>\n",
       "    </tr>\n",
       "    <tr>\n",
       "      <th>25%</th>\n",
       "      <td>0.082045</td>\n",
       "      <td>0.000000</td>\n",
       "      <td>5.190000</td>\n",
       "      <td>0.000000</td>\n",
       "      <td>0.449000</td>\n",
       "      <td>5.885500</td>\n",
       "      <td>45.025000</td>\n",
       "      <td>2.100175</td>\n",
       "      <td>4.000000</td>\n",
       "      <td>279.000000</td>\n",
       "      <td>17.400000</td>\n",
       "      <td>375.377500</td>\n",
       "      <td>6.950000</td>\n",
       "      <td>17.025000</td>\n",
       "    </tr>\n",
       "    <tr>\n",
       "      <th>50%</th>\n",
       "      <td>0.256510</td>\n",
       "      <td>0.000000</td>\n",
       "      <td>9.690000</td>\n",
       "      <td>0.000000</td>\n",
       "      <td>0.538000</td>\n",
       "      <td>6.208500</td>\n",
       "      <td>77.500000</td>\n",
       "      <td>3.207450</td>\n",
       "      <td>5.000000</td>\n",
       "      <td>330.000000</td>\n",
       "      <td>19.050000</td>\n",
       "      <td>391.440000</td>\n",
       "      <td>11.360000</td>\n",
       "      <td>21.200000</td>\n",
       "    </tr>\n",
       "    <tr>\n",
       "      <th>75%</th>\n",
       "      <td>3.677083</td>\n",
       "      <td>12.500000</td>\n",
       "      <td>18.100000</td>\n",
       "      <td>0.000000</td>\n",
       "      <td>0.624000</td>\n",
       "      <td>6.623500</td>\n",
       "      <td>94.075000</td>\n",
       "      <td>5.188425</td>\n",
       "      <td>24.000000</td>\n",
       "      <td>666.000000</td>\n",
       "      <td>20.200000</td>\n",
       "      <td>396.225000</td>\n",
       "      <td>16.955000</td>\n",
       "      <td>25.000000</td>\n",
       "    </tr>\n",
       "    <tr>\n",
       "      <th>max</th>\n",
       "      <td>88.976200</td>\n",
       "      <td>100.000000</td>\n",
       "      <td>27.740000</td>\n",
       "      <td>1.000000</td>\n",
       "      <td>0.871000</td>\n",
       "      <td>8.780000</td>\n",
       "      <td>100.000000</td>\n",
       "      <td>12.126500</td>\n",
       "      <td>24.000000</td>\n",
       "      <td>711.000000</td>\n",
       "      <td>22.000000</td>\n",
       "      <td>396.900000</td>\n",
       "      <td>37.970000</td>\n",
       "      <td>50.000000</td>\n",
       "    </tr>\n",
       "  </tbody>\n",
       "</table>\n",
       "</div>"
      ],
      "text/plain": [
       "             CRIM          ZN       INDUS        CHAS         NOX          RM  \\\n",
       "count  506.000000  506.000000  506.000000  506.000000  506.000000  506.000000   \n",
       "mean     3.613524   11.363636   11.136779    0.069170    0.554695    6.284634   \n",
       "std      8.601545   23.322453    6.860353    0.253994    0.115878    0.702617   \n",
       "min      0.006320    0.000000    0.460000    0.000000    0.385000    3.561000   \n",
       "25%      0.082045    0.000000    5.190000    0.000000    0.449000    5.885500   \n",
       "50%      0.256510    0.000000    9.690000    0.000000    0.538000    6.208500   \n",
       "75%      3.677083   12.500000   18.100000    0.000000    0.624000    6.623500   \n",
       "max     88.976200  100.000000   27.740000    1.000000    0.871000    8.780000   \n",
       "\n",
       "              AGE         DIS         RAD         TAX     PTRATIO           B  \\\n",
       "count  506.000000  506.000000  506.000000  506.000000  506.000000  506.000000   \n",
       "mean    68.574901    3.795043    9.549407  408.237154   18.455534  356.674032   \n",
       "std     28.148861    2.105710    8.707259  168.537116    2.164946   91.294864   \n",
       "min      2.900000    1.129600    1.000000  187.000000   12.600000    0.320000   \n",
       "25%     45.025000    2.100175    4.000000  279.000000   17.400000  375.377500   \n",
       "50%     77.500000    3.207450    5.000000  330.000000   19.050000  391.440000   \n",
       "75%     94.075000    5.188425   24.000000  666.000000   20.200000  396.225000   \n",
       "max    100.000000   12.126500   24.000000  711.000000   22.000000  396.900000   \n",
       "\n",
       "            LSTAT        MEDV  \n",
       "count  506.000000  506.000000  \n",
       "mean    12.653063   22.532806  \n",
       "std      7.141062    9.197104  \n",
       "min      1.730000    5.000000  \n",
       "25%      6.950000   17.025000  \n",
       "50%     11.360000   21.200000  \n",
       "75%     16.955000   25.000000  \n",
       "max     37.970000   50.000000  "
      ]
     },
     "execution_count": 4,
     "metadata": {},
     "output_type": "execute_result"
    }
   ],
   "source": [
    "bdf.describe()"
   ]
  },
  {
   "cell_type": "code",
   "execution_count": 5,
   "id": "85a5383d",
   "metadata": {
    "scrolled": true
   },
   "outputs": [
    {
     "name": "stdout",
     "output_type": "stream",
     "text": [
      ".. _boston_dataset:\n",
      "\n",
      "Boston house prices dataset\n",
      "---------------------------\n",
      "\n",
      "**Data Set Characteristics:**  \n",
      "\n",
      "    :Number of Instances: 506 \n",
      "\n",
      "    :Number of Attributes: 13 numeric/categorical predictive. Median Value (attribute 14) is usually the target.\n",
      "\n",
      "    :Attribute Information (in order):\n",
      "        - CRIM     per capita crime rate by town\n",
      "        - ZN       proportion of residential land zoned for lots over 25,000 sq.ft.\n",
      "        - INDUS    proportion of non-retail business acres per town\n",
      "        - CHAS     Charles River dummy variable (= 1 if tract bounds river; 0 otherwise)\n",
      "        - NOX      nitric oxides concentration (parts per 10 million)\n",
      "        - RM       average number of rooms per dwelling\n",
      "        - AGE      proportion of owner-occupied units built prior to 1940\n",
      "        - DIS      weighted distances to five Boston employment centres\n",
      "        - RAD      index of accessibility to radial highways\n",
      "        - TAX      full-value property-tax rate per $10,000\n",
      "        - PTRATIO  pupil-teacher ratio by town\n",
      "        - B        1000(Bk - 0.63)^2 where Bk is the proportion of black people by town\n",
      "        - LSTAT    % lower status of the population\n",
      "        - MEDV     Median value of owner-occupied homes in $1000's\n",
      "\n",
      "    :Missing Attribute Values: None\n",
      "\n",
      "    :Creator: Harrison, D. and Rubinfeld, D.L.\n",
      "\n",
      "This is a copy of UCI ML housing dataset.\n",
      "https://archive.ics.uci.edu/ml/machine-learning-databases/housing/\n",
      "\n",
      "\n",
      "This dataset was taken from the StatLib library which is maintained at Carnegie Mellon University.\n",
      "\n",
      "The Boston house-price data of Harrison, D. and Rubinfeld, D.L. 'Hedonic\n",
      "prices and the demand for clean air', J. Environ. Economics & Management,\n",
      "vol.5, 81-102, 1978.   Used in Belsley, Kuh & Welsch, 'Regression diagnostics\n",
      "...', Wiley, 1980.   N.B. Various transformations are used in the table on\n",
      "pages 244-261 of the latter.\n",
      "\n",
      "The Boston house-price data has been used in many machine learning papers that address regression\n",
      "problems.   \n",
      "     \n",
      ".. topic:: References\n",
      "\n",
      "   - Belsley, Kuh & Welsch, 'Regression diagnostics: Identifying Influential Data and Sources of Collinearity', Wiley, 1980. 244-261.\n",
      "   - Quinlan,R. (1993). Combining Instance-Based and Model-Based Learning. In Proceedings on the Tenth International Conference of Machine Learning, 236-243, University of Massachusetts, Amherst. Morgan Kaufmann.\n",
      "\n"
     ]
    }
   ],
   "source": [
    "# Afficher la descritpion des données\n",
    "print(b.DESCR)"
   ]
  },
  {
   "cell_type": "code",
   "execution_count": 6,
   "id": "1b8d36f5",
   "metadata": {
    "scrolled": true
   },
   "outputs": [
    {
     "name": "stdout",
     "output_type": "stream",
     "text": [
      "Nombre de d'objets dans le dataset (lignes) :  506\n",
      "Nombre d'attributs (colonnes) dans le dataset:  14\n",
      "Logiquement nous devrions avoir 14  *  506  éléments =  7084\n",
      "Nombre actuel d'éléments:  7084\n",
      "On peut en conclure qu'il n'y a as de données manquantes\n"
     ]
    }
   ],
   "source": [
    "dataNb = len(bdf.index)\n",
    "print(\"Nombre de d'objets dans le dataset (lignes) : \", dataNb)\n",
    "cols = list(bdf)\n",
    "\n",
    "print(\"Nombre d'attributs (colonnes) dans le dataset: \", len(cols))\n",
    "print(\"Logiquement nous devrions avoir\", len(cols), \" * \", dataNb, \" éléments = \", len(cols) * dataNb)\n",
    "print(\"Nombre actuel d'éléments: \", bdf.size)\n",
    "print (\"On peut en conclure qu'il n'y a as de données manquantes\")"
   ]
  },
  {
   "cell_type": "markdown",
   "id": "e5684bcd",
   "metadata": {},
   "source": [
    "#### 1.3.1 analyse des données\n",
    "\n",
    "Selon la description, il y a 506 records pour 14 attributs et aucune données manquantes. Nous pouvons voir que c'est bien le cas. Notre dataFrame contient bien 14 colonnes, 506 lignes, et aucune colonne n'a de valeurs manquantes\n",
    "\n",
    "Nous allons maintenant étudier la répartition des données avec un histogramme sur la variable MEDV (demandé dans la consigne) et des boxplots pour toutes les autres variables pour avoir un bel overview"
   ]
  },
  {
   "cell_type": "markdown",
   "id": "47bde2b8",
   "metadata": {},
   "source": [
    "#### 1.3.2 Répartition de la variable MEDV"
   ]
  },
  {
   "cell_type": "code",
   "execution_count": 7,
   "id": "ab821171",
   "metadata": {
    "scrolled": false
   },
   "outputs": [
    {
     "data": {
      "text/plain": [
       "Text(0, 0.5, 'Prix médian des maisons (x1000$)')"
      ]
     },
     "execution_count": 7,
     "metadata": {},
     "output_type": "execute_result"
    },
    {
     "data": {
      "image/png": "[encoded data removed]",
      "text/plain": [
       "<Figure size 1008x576 with 1 Axes>"
      ]
     },
     "metadata": {
      "needs_background": "light"
     },
     "output_type": "display_data"
    }
   ],
   "source": [
    "#afficher la répartition de la variable MEDV\n",
    "\n",
    "#Nous avons utilisé 9 bins pour être \"calqué\" sur les axes\n",
    "bdf[\"MEDV\"].hist(bins = 9, figsize=figsize, xlabelsize=fsize_axes,\n",
    "                 legend=True, ylabelsize=14, color=color, edgecolor=edge)\n",
    "plt.title(\"Répartition de la variable MEDV\", fontsize=fsize_title)\n",
    "plt.ylabel(\"Prix médian des maisons (x1000$)\", fontsize=fsize_axes)"
   ]
  },
  {
   "cell_type": "markdown",
   "id": "8da225c8",
   "metadata": {},
   "source": [
    "### 1.4 Visualiser des boxplots des variables MEDV, RM, LSTAT, RAD, DIS et AGE."
   ]
  },
  {
   "cell_type": "code",
   "execution_count": 8,
   "id": "ee7669d3",
   "metadata": {
    "scrolled": false
   },
   "outputs": [
    {
     "data": {
      "text/plain": [
       "Text(0.5, 0.98, 'Boxplots des variables MEDV, RM, LSTAT, RAD, DIS et AGE')"
      ]
     },
     "execution_count": 8,
     "metadata": {},
     "output_type": "execute_result"
    },
    {
     "data": {
      "image/png": "[encoded data removed]",
      "text/plain": [
       "<Figure size 1440x1080 with 6 Axes>"
      ]
     },
     "metadata": {
      "needs_background": "light"
     },
     "output_type": "display_data"
    }
   ],
   "source": [
    "fig, axes = plt.subplots(2, 3, figsize=(20, 15))\n",
    "labels = [\"MEDV\", \"RM\", \"LSTAT\", \"RAD\", \"DIS\", \"AGE\"]\n",
    "\n",
    "for i,lab in enumerate(labels):\n",
    "    bdf.boxplot(lab, ax=axes[i // 3, i % 3], showmeans=True, fontsize=fsize_axes,\n",
    "                medianprops = dict(linewidth=1.5, color='firebrick'))\n",
    "\n",
    "fig.suptitle(\"Boxplots des variables MEDV, RM, LSTAT, RAD, DIS et AGE\", fontsize=fsize_title)"
   ]
  },
  {
   "cell_type": "markdown",
   "id": "6cab9bbd",
   "metadata": {},
   "source": [
    "#### 1.4.1 Analyse des boxplots\n",
    "\n",
    "On peut observer que pour qualifier la variable MEDV, les variables AGE et RAD ne semblent pas être de bons candidats, car la majorité de leurs données (50% pour AGE et 75% pour AGE) sont dans une plage beaucoup trop grande.\n",
    "\n",
    "Par contre, RM, LSTAT et DIS sont de bons candidats à utiliser pour le calcul de la régression linéaire, car leur données sont bien regroupées\n"
   ]
  },
  {
   "cell_type": "markdown",
   "id": "c765b366",
   "metadata": {},
   "source": [
    "### 1.5 Créez des modèles en utilisant l’algorithme de régression linéaire simple\n",
    "\n",
    "Estimer la valeur MEDV à partir des variables RM, RAD et LSTAT, chaque fois utilisant seulement une des variables.\n",
    "Programmez les fonctions pour faire une validation hold-out (e.g., 80% train + 20% test x 100 fois) et pour calculer le coefficient de détermination afin d’évaluer la performance moyenne du modèle. Commentez vos résultats.\n",
    "\n",
    "### 1.6 Explorez les hyper-paramètres : learning_rate et nombre d’epochs\n",
    "\n",
    "Calculez la performance moyenne (c.a.d., la moyenne de x100 fois le coefficient de détermination calculé sur le test set) du meilleur modèle trouvé par validation hold-out. Indiquez la valeur des hyper-paramètres qui donnent les meilleurs résultats et la meilleure performance trouvée. Générez un scatter-plot affichant les données (variable indépendante, variable dépendante) et la ligne droite trouvée par régression linéaire.\n",
    "\n",
    "Nous avons réalisé les points 1.5 et 1.6 ensemble. Pour trouver les meilleurs hyper-paramètres, nous avons essayé des valeurs à la main"
   ]
  },
  {
   "cell_type": "code",
   "execution_count": 9,
   "id": "4ce688ed",
   "metadata": {},
   "outputs": [],
   "source": [
    "def compute_MSE(b,m,data):\n",
    "    totalError = 0   # Mean squared error formula\n",
    "    for i in range (0, len(data)):\n",
    "        x = data[i, 0] # variable indépendante\n",
    "        y = data[i, 1] # variable dépendante\n",
    "        totalError += (y-(m*x + b)) ** 2 # somme des différences au carré\n",
    "    return totalError / float(len(data)) # on divise par N\n",
    "\n",
    "def step_gradient(b_current, m_current, data, learning_rate):\n",
    "    b_gradient = 0\n",
    "    m_gradient = 0\n",
    "    N = float(len(data))\n",
    "    for i in range(0, len(data)):\n",
    "        x = data[i, 0]\n",
    "        y = data[i, 1]\n",
    "        b_gradient += -(1/N) * (y - (m_current * x + b_current))\n",
    "        m_gradient += -(1/N) * x * (y - (m_current * x + b_current))\n",
    "    new_b = b_current - (learning_rate * b_gradient)\n",
    "    new_m = m_current - (learning_rate * m_gradient)\n",
    "    return [new_b, new_m]\n",
    "\n",
    "def gradient_descent(data, starting_b, starting_m, learning_rate, nEpoch):\n",
    "    b = starting_b\n",
    "    m = starting_m\n",
    "    for i in range(nEpoch):\n",
    "        b, m = step_gradient(b, m, np.array(data), learning_rate)\n",
    "    return [b, m]"
   ]
  },
  {
   "cell_type": "code",
   "execution_count": 10,
   "id": "28577e74",
   "metadata": {},
   "outputs": [],
   "source": [
    "def printStats(df, lrate, nEpoch):\n",
    "    dataFrame = df.copy()\n",
    "    #On initialise la valeur de m et de b\n",
    "    initial_b = np.random.rand(1)  # intercept\n",
    "    initial_m = np.random.rand(1)  # pente\n",
    "    print(\"Running...\")\n",
    "    for col in [\"RM\", \"RAD\", \"LSTAT\"]:\n",
    "\n",
    "        #Normalisation des données\n",
    "        data = dataFrame[[col, 'MEDV']].values\n",
    "        scaller = MinMaxScaler()\n",
    "        scaller.fit(data)\n",
    "        data = scaller.transform(data)\n",
    "        \n",
    "        error = compute_MSE(initial_b, initial_m, data)\n",
    "        \n",
    "        # On applique la méthode du gradient descendant\n",
    "        print(\"Starting gradient descent at b = {0}, m = {1}, error = {2}\".format(\n",
    "            initial_b.round(3),\n",
    "            initial_m.round(3),\n",
    "            error.round(3)))\n",
    "        \n",
    "        [b, m] = gradient_descent(data, initial_b, initial_m, lrate, nEpoch)\n",
    "        error = compute_MSE(b, m, data)\n",
    "        \n",
    "        print(\"After {0} epochs: b = {1}, m = {2}, error = {3}\".format(\n",
    "            nEpoch,\n",
    "            b.round(3),\n",
    "            m.round(3),\n",
    "            error.round(3)))\n",
    "        x = min(data[:, 0]), max(data[:, 0])\n",
    "\n",
    "        plt.figure(figsize=figsize)\n",
    "        plt.scatter(data[:, 0], data[:, 1])\n",
    "        plt.plot(x, m*x + b, 'r')\n",
    "        plt.title(\"Modèle de MEDV en fonction de \" + col, fontsize=fsize_title)\n",
    "        plt.xlabel(col, fontsize=fsize_axes)\n",
    "        plt.ylabel(\"MDEV\", fontsize=fsize_axes)\n",
    "        plt.grid()\n",
    "        plt.show()"
   ]
  },
  {
   "cell_type": "markdown",
   "id": "00d288df",
   "metadata": {},
   "source": [
    "#### 1.5.1 Afficher les graphiques de la régression linéaire"
   ]
  },
  {
   "cell_type": "code",
   "execution_count": 11,
   "id": "604a804b",
   "metadata": {
    "scrolled": false
   },
   "outputs": [
    {
     "name": "stdout",
     "output_type": "stream",
     "text": [
      "Running...\n",
      "Starting gradient descent at b = [0.38], m = [0.412], error = [0.071]\n",
      "After 7000 epochs: b = [0.013], m = [0.727], error = [0.023]\n"
     ]
    },
    {
     "data": {
      "image/png": "[encoded data removed]",
      "text/plain": [
       "<Figure size 1008x576 with 1 Axes>"
      ]
     },
     "metadata": {
      "needs_background": "light"
     },
     "output_type": "display_data"
    },
    {
     "name": "stdout",
     "output_type": "stream",
     "text": [
      "Starting gradient descent at b = [0.38], m = [0.412], error = [0.111]\n",
      "After 7000 epochs: b = [0.466], m = [-0.205], error = [0.036]\n"
     ]
    },
    {
     "data": {
      "image/png": "[encoded data removed]",
      "text/plain": [
       "<Figure size 1008x576 with 1 Axes>"
      ]
     },
     "metadata": {
      "needs_background": "light"
     },
     "output_type": "display_data"
    },
    {
     "name": "stdout",
     "output_type": "stream",
     "text": [
      "Starting gradient descent at b = [0.38], m = [0.412], error = [0.086]\n",
      "After 7000 epochs: b = [0.571], m = [-0.608], error = [0.02]\n"
     ]
    },
    {
     "data": {
      "image/png": "[encoded data removed]",
      "text/plain": [
       "<Figure size 1008x576 with 1 Axes>"
      ]
     },
     "metadata": {
      "needs_background": "light"
     },
     "output_type": "display_data"
    }
   ],
   "source": [
    "learningRate = 0.008\n",
    "\n",
    "# Le calcul prend beaucoup de temps avec 7000 epoch.\n",
    "nEpoch = 7000\n",
    "\n",
    "printStats(bdf, learningRate, nEpoch)"
   ]
  },
  {
   "cell_type": "markdown",
   "id": "cc494760",
   "metadata": {},
   "source": [
    "#### Analyse des graphiques\n",
    "\n",
    "Nous avons choisi le nombre d'epoch à 7000 et le learning rate à 0.008 à la main pour obtenir des graphiques corrects.\n",
    "\n",
    "Nous pouvons constater que pour les variables RM et LSTAT, la droite (le modèle) suit bien la forme générale représentée par les points. Concernant la variable RAD, il est plus difficile de l'évaluer par observation, cependant, le modèle nous parait correct."
   ]
  },
  {
   "cell_type": "code",
   "execution_count": 12,
   "id": "847cf4a9",
   "metadata": {},
   "outputs": [],
   "source": [
    "# Evaluation Hold-Out\n",
    "# Split a dataset into a train and test set\n",
    "def train_test_split(dataset,split):\n",
    "    train = list()\n",
    "    train_size = split * len(dataset)\n",
    "    dataset_copy = list(dataset)\n",
    "    while len(train) < train_size:\n",
    "        index = randrange(len(dataset_copy))\n",
    "        train.append(dataset_copy.pop(index))\n",
    "    return train, dataset_copy"
   ]
  },
  {
   "cell_type": "code",
   "execution_count": 13,
   "id": "574d2de6",
   "metadata": {},
   "outputs": [],
   "source": [
    "def detCoeff(dataset, testset, lrate, nEpoch):\n",
    "    # On initialise la valeur de m et de b\n",
    "    initial_b = random.random() # intercept\n",
    "    initial_m = random.random() # pente\n",
    "\n",
    "    # On applique la méthode du gradient descendant\n",
    "    [h, m] = gradient_descent(np.array(dataset), initial_b, initial_m, lrate, nEpoch)\n",
    "\n",
    "    # Moyenne des mesures\n",
    "    yB = np.mean(testset, axis=0)[1]\n",
    "    \n",
    "    a = 0\n",
    "    b = 0\n",
    "    for row in testset:\n",
    "        # valeur réelle\n",
    "        yi = row[1]\n",
    "        # prédiction\n",
    "        yReg = m*row[0] + h\n",
    "        \n",
    "        #Calculer les sommes\n",
    "        a += (yi - yReg) ** 2\n",
    "        b += (yi - yB) ** 2    \n",
    "    \n",
    "    return 1 - (a / b)"
   ]
  },
  {
   "cell_type": "code",
   "execution_count": 14,
   "id": "adf65fdf",
   "metadata": {},
   "outputs": [],
   "source": [
    "def getPerformance(df, N, col_data, col_predict, lrate, nEpoch):\n",
    "    dataFrame = df.copy()\n",
    "    data = dataFrame[[col_data, col_predict]].values.tolist()\n",
    "    scores = []\n",
    "    for _ in range(N):\n",
    "        # Collecter les données\n",
    "        dataset, testset = train_test_split(data, split)\n",
    "        scores.append(detCoeff(dataset, testset, lrate, nEpoch))\n",
    "    return np.mean(scores)"
   ]
  },
  {
   "cell_type": "code",
   "execution_count": 15,
   "id": "da43df6a",
   "metadata": {},
   "outputs": [
    {
     "name": "stdout",
     "output_type": "stream",
     "text": [
      "Moyenne de R² pour déterminer MEDV en fonction de RM : 42.0 %\n",
      "Moyenne de R² pour déterminer MEDV en fonction de RAD : 12.0 %\n",
      "Moyenne de R² pour déterminer MEDV en fonction de LSTAT : 54.0 %\n"
     ]
    }
   ],
   "source": [
    "#/!\\ Ce clacul prend énormément de temps\n",
    "for col in [\"RM\", \"RAD\", \"LSTAT\"]:\n",
    "    mean = getPerformance(bdf, 100, col, \"MEDV\", learningRate, nEpoch)\n",
    "    print(\"Moyenne de R² pour déterminer MEDV en fonction de\", col, \":\", round(mean, 2) * 100, \"%\")"
   ]
  },
  {
   "cell_type": "markdown",
   "id": "ac57ac8e",
   "metadata": {},
   "source": [
    "#### Calcul de la performance\n",
    "\n",
    "Concernant le calcul de du coefficient de détermination de Pearson (R²), il semble que les données prédites sont loin des valeurs réelles. Cela expliquerait pourquoi R² est négatif pour RAD, donc une mauvaise performance.\n",
    "\n",
    "Avec un learning rate plus haut nous aurions de meilleurs résultats, cependant un learning rate trop haut génère des overflows lors du calcul de la performance. Nous avons donc utilisé un nombre d'epoch plus haut. (typiquement avec lRate = 0.5 et nEpoch = 2000 on a de meilleurs résultats)\n",
    "\n",
    "Nous aurions pu automatiser les tests pour tester les meilleurs hyper-paramètres, mais cela prendrait beaucoup trop de temps à calculer étant donné qu'il faut deja environs 10 à 15 minutes pour calculer la performance avec 1 set d'hyper paramètres"
   ]
  },
  {
   "cell_type": "markdown",
   "id": "3ee2345d",
   "metadata": {},
   "source": [
    "## 2 Régression linéaire multiple\n",
    "\n",
    "### 1 Entrainement d'un modèle de régression linéaire multiple\n",
    "\n",
    "Utilisez la bibliothèque sklearn pour entraîner un modèle de régression linéaire multiple qui exploite plusieurs variables indépendantes (p.ex. RM et LSTAT) de la base de données « Boston Housing dataset ».\n",
    "\n",
    "Pour ce point nos avons décidé d'utiliser les variables LSTAT et RM, car ce sont les 2 variables qui ont le meilleur résultat dans le calcul de performance effectué plus aux points 1.5 et 1.6, mais aussi car ce sont les deux variables qui semblent être les plus corrélées à MEDV dans les boxplots"
   ]
  },
  {
   "cell_type": "code",
   "execution_count": 20,
   "id": "31358791",
   "metadata": {},
   "outputs": [
    {
     "name": "stdout",
     "output_type": "stream",
     "text": [
      "coefficients:  [ 5.09478798 -0.64235833]\n"
     ]
    }
   ],
   "source": [
    "data = bdf[[\"RM\", \"LSTAT\", \"MEDV\"]]\n",
    "lRegression = lm.LinearRegression()\n",
    "lRegression.fit(data[[\"RM\", \"LSTAT\"]], data[\"MEDV\"])\n",
    "print(\"coefficients: \", lRegression.coef_)\n",
    "\n",
    "dataset, testset = train_test_split(data.values.tolist(), split)\n",
    "np_dataset = np.array(dataset)\n",
    "np_testset = np.array(testset)"
   ]
  },
  {
   "cell_type": "markdown",
   "id": "c1a79b95",
   "metadata": {},
   "source": [
    "### 2.2 Préparation des données\n",
    "\n",
    "Utilisez la bibliothèque sklearn pour préparer les données pour faire une validation hold-out ainsi que pour le calcul du coefficient de détermination (r2_score) des modèles."
   ]
  },
  {
   "cell_type": "code",
   "execution_count": 17,
   "id": "50f64ee6",
   "metadata": {},
   "outputs": [
    {
     "name": "stdout",
     "output_type": "stream",
     "text": [
      "Moyenne de R² pour déterminer MEDV en fonction de LSTAT et RM : 61.0 %\n"
     ]
    }
   ],
   "source": [
    "score = []\n",
    "bdf_copy = bdf.copy()\n",
    "    \n",
    "for i in range(100):\n",
    "    df = bdf_copy[[\"RM\", \"LSTAT\"] + ['MEDV']]\n",
    "    x = df.drop(\"MEDV\", axis=1)\n",
    "    y = df[\"MEDV\"]\n",
    "    x_train, x_test, y_train, y_test = skl_train_test_split(x, y, test_size = split)\n",
    "    lRegression = lm.LinearRegression()\n",
    "    lRegression.fit(x_train,y_train)\n",
    "    y_prediction = lRegression.predict(x_test)\n",
    "    score.append(r2s(y_test,y_prediction))\n",
    "        \n",
    "score = np.round(np.mean(score, axis=0),2)\n",
    "print(\"Moyenne de R² pour déterminer MEDV en fonction de LSTAT et RM :\", round(score, 2) * 100, \"%\")"
   ]
  },
  {
   "cell_type": "markdown",
   "id": "62163bea",
   "metadata": {},
   "source": [
    "### 2.3 Présentation des résultats\n",
    "\n",
    "L'entrainement du modèle des prédictions des valeurs aux points 1.5 et  1.6, nous a pris entre 10  et 15 minutes, pour les résultats suivants:\n",
    " - Moyenne R² RM = ~43% modèle acceptable\n",
    " - Moyenne R² RAD = ~25% mauvais modèle\n",
    " - Moyenne R² LSTAT = ~52% modèle OK\n",
    "\n",
    "Avec une regression linéaire multiple et les méthodes utilisée dans la librairie sklearn, on arrive à un résultat acceptable, et de manière presque instantanée.\n",
    " - Moyenne trouvée avec les variables RAD et LSTAT = 61% => meilleur résultat que LSTAT seul\n"
   ]
  },
  {
   "cell_type": "markdown",
   "id": "80881209",
   "metadata": {},
   "source": [
    "### 2.4 Variance des valeurs prédites avec les valeurs réelles\n",
    "\n",
    "Générez un scatter-plot (valeur prédite, variable dépendante) et une ligne droite correspondant à l’équation valeur prédite = valeur dépendante (Note : la variable dépendante est MEDV)."
   ]
  },
  {
   "cell_type": "code",
   "execution_count": 18,
   "id": "186acde4",
   "metadata": {},
   "outputs": [
    {
     "ename": "NameError",
     "evalue": "name 'np_testset' is not defined",
     "output_type": "error",
     "traceback": [
      "\u001b[1;31m---------------------------------------------------------------------------\u001b[0m",
      "\u001b[1;31mNameError\u001b[0m                                 Traceback (most recent call last)",
      "Input \u001b[1;32mIn [18]\u001b[0m, in \u001b[0;36m<cell line: 5>\u001b[1;34m()\u001b[0m\n\u001b[0;32m      2\u001b[0m intercept \u001b[38;5;241m=\u001b[39m lRegression\u001b[38;5;241m.\u001b[39mintercept_\n\u001b[0;32m      3\u001b[0m plt\u001b[38;5;241m.\u001b[39mfigure(figsize\u001b[38;5;241m=\u001b[39mfigsize)\n\u001b[1;32m----> 5\u001b[0m y_actual \u001b[38;5;241m=\u001b[39m \u001b[43mnp_testset\u001b[49m[:, \u001b[38;5;241m2\u001b[39m]\n\u001b[0;32m      6\u001b[0m y_predicted \u001b[38;5;241m=\u001b[39m coefs[\u001b[38;5;241m0\u001b[39m] \u001b[38;5;241m*\u001b[39m np_testset[:, \u001b[38;5;241m0\u001b[39m] \u001b[38;5;241m+\u001b[39m coefs[\u001b[38;5;241m1\u001b[39m] \u001b[38;5;241m*\u001b[39m np_testset[:, \u001b[38;5;241m1\u001b[39m] \u001b[38;5;241m+\u001b[39m intercept\n\u001b[0;32m      8\u001b[0m plt\u001b[38;5;241m.\u001b[39mscatter(y_actual, y_predicted)\n",
      "\u001b[1;31mNameError\u001b[0m: name 'np_testset' is not defined"
     ]
    },
    {
     "data": {
      "text/plain": [
       "<Figure size 1008x576 with 0 Axes>"
      ]
     },
     "metadata": {},
     "output_type": "display_data"
    }
   ],
   "source": [
    "coefs = lRegression.coef_\n",
    "intercept = lRegression.intercept_\n",
    "plt.figure(figsize=figsize)\n",
    "\n",
    "y_actual = np_testset[:, 2]\n",
    "y_predicted = coefs[0] * np_testset[:, 0] + coefs[1] * np_testset[:, 1] + intercept\n",
    "\n",
    "plt.scatter(y_actual, y_predicted)\n",
    "y = min(data[\"MEDV\"]), max(data[\"MEDV\"])\n",
    "plt.plot(y, y, 'r')\n",
    "\n",
    "plt.title(\"Valeur prédite en fonction de la valeur réel de MEDV\", fontsize=fsize_title)\n",
    "plt.xlabel(\"MEDV réel\", fontsize=fsize_axes)\n",
    "plt.ylabel(\"MEDV prédit\", fontsize=fsize_axes)\n",
    "plt.grid()\n",
    "plt.show()"
   ]
  },
  {
   "cell_type": "markdown",
   "id": "0ba78c80",
   "metadata": {},
   "source": [
    "#### 2.4.1 Observations\n",
    "\n",
    "Nous pouvons voir sur ce graphique que notre modèle est bon, car les valeurs prédites correspondent bien aux valeurs réelles."
   ]
  }
 ],
 "metadata": {
  "kernelspec": {
   "display_name": "isd",
   "language": "python",
   "name": "isd"
  },
  "language_info": {
   "codemirror_mode": {
    "name": "ipython",
    "version": 3
   },
   "file_extension": ".py",
   "mimetype": "text/x-python",
   "name": "python",
   "nbconvert_exporter": "python",
   "pygments_lexer": "ipython3",
   "version": "3.9.11"
  }
 },
 "nbformat": 4,
 "nbformat_minor": 5
}
